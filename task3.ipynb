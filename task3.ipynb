{
 "cells": [
  {
   "cell_type": "code",
   "execution_count": 1,
   "id": "9379d5a9-661d-44c3-827e-d24106faa6be",
   "metadata": {},
   "outputs": [],
   "source": [
    "import pandas as pd\n",
    "import numpy as np\n",
    "\n",
    "df = pd.read_csv(\"cox2_with_rdkit_descriptors.csv\")\n",
    "\n",
    "df = df[df['IC50_nM'] > 0].copy()\n",
    "df['pIC50'] = -np.log10(df['IC50_nM'] * 1e-9)"
   ]
  },
  {
   "cell_type": "code",
   "execution_count": 2,
   "id": "c1075359-27ca-4d9f-bdee-58647b6d7787",
   "metadata": {},
   "outputs": [],
   "source": [
    "from sklearn.preprocessing import StandardScaler\n",
    "\n",
    "X = df.drop(columns=['Smiles', 'IC50_nM', 'pIC50'])\n",
    "y = df['pIC50']\n",
    "\n",
    "scaler = StandardScaler()\n",
    "X_scaled = scaler.fit_transform(X)"
   ]
  },
  {
   "cell_type": "code",
   "execution_count": 3,
   "id": "3dac64ed-97e1-415a-a66c-b2e189302745",
   "metadata": {},
   "outputs": [],
   "source": [
    "from sklearn.decomposition import PCA\n",
    "\n",
    "pca = PCA(n_components=50)\n",
    "X_pca = pca.fit_transform(X_scaled)"
   ]
  },
  {
   "cell_type": "code",
   "execution_count": 4,
   "id": "d93d84ac-265c-42ae-83e7-86f252fa946d",
   "metadata": {},
   "outputs": [],
   "source": [
    "import random\n",
    "import torch\n",
    "\n",
    "def set_seed(seed=42):\n",
    "    random.seed(seed)\n",
    "    np.random.seed(seed)\n",
    "    torch.manual_seed(seed)\n",
    "    torch.cuda.manual_seed_all(seed)\n",
    "\n",
    "set_seed(42)"
   ]
  },
  {
   "cell_type": "code",
   "execution_count": 5,
   "id": "a5543586-5ff5-4e3a-9a8c-fc33c9ae131f",
   "metadata": {},
   "outputs": [],
   "source": [
    "from sklearn.ensemble import RandomForestRegressor\n",
    "from xgboost import XGBRegressor\n",
    "from sklearn.model_selection import cross_val_score\n",
    "\n",
    "models = {\n",
    "    'Random Forest': RandomForestRegressor(n_estimators=100, random_state=42),\n",
    "    'XGBoost': XGBRegressor(n_estimators=100, random_state=42)\n",
    "}\n",
    "\n",
    "from sklearn.metrics import mean_squared_error, mean_absolute_error, r2_score\n",
    "from sklearn.model_selection import KFold\n",
    "\n",
    "kf = KFold(n_splits=5, shuffle=True, random_state=42)\n",
    "\n",
    "results = {}\n",
    "\n",
    "for name, model in models.items():\n",
    "    r2 = cross_val_score(model, X_scaled, y, cv=kf, scoring='r2')\n",
    "    mae = cross_val_score(model, X_scaled, y, cv=kf, scoring='neg_mean_absolute_error')\n",
    "    rmse = cross_val_score(model, X_scaled, y, cv=kf, scoring='neg_root_mean_squared_error')\n",
    "\n",
    "    results[name] = {\n",
    "        'R2 mean': r2.mean(),\n",
    "        'R2 std': r2.std(),\n",
    "        'MAE mean': -mae.mean(),\n",
    "        'RMSE mean': -rmse.mean()\n",
    "    }"
   ]
  },
  {
   "cell_type": "code",
   "execution_count": 16,
   "id": "efa0142d-4ac6-4fce-878b-4c196590a70b",
   "metadata": {},
   "outputs": [
    {
     "data": {
      "text/html": [
       "<div>\n",
       "<style scoped>\n",
       "    .dataframe tbody tr th:only-of-type {\n",
       "        vertical-align: middle;\n",
       "    }\n",
       "\n",
       "    .dataframe tbody tr th {\n",
       "        vertical-align: top;\n",
       "    }\n",
       "\n",
       "    .dataframe thead th {\n",
       "        text-align: right;\n",
       "    }\n",
       "</style>\n",
       "<table border=\"1\" class=\"dataframe\">\n",
       "  <thead>\n",
       "    <tr style=\"text-align: right;\">\n",
       "      <th></th>\n",
       "      <th>R2 mean</th>\n",
       "      <th>MAE mean</th>\n",
       "      <th>RMSE mean</th>\n",
       "    </tr>\n",
       "  </thead>\n",
       "  <tbody>\n",
       "    <tr>\n",
       "      <th>Random Forest</th>\n",
       "      <td>0.597103</td>\n",
       "      <td>0.706625</td>\n",
       "      <td>0.941067</td>\n",
       "    </tr>\n",
       "    <tr>\n",
       "      <th>XGBoost</th>\n",
       "      <td>0.546488</td>\n",
       "      <td>0.763365</td>\n",
       "      <td>0.998446</td>\n",
       "    </tr>\n",
       "  </tbody>\n",
       "</table>\n",
       "</div>"
      ],
      "text/plain": [
       "                R2 mean  MAE mean  RMSE mean\n",
       "Random Forest  0.597103  0.706625   0.941067\n",
       "XGBoost        0.546488  0.763365   0.998446"
      ]
     },
     "execution_count": 16,
     "metadata": {},
     "output_type": "execute_result"
    }
   ],
   "source": [
    "results_df = pd.DataFrame(results).T\n",
    "results_df[['R2 mean', 'MAE mean', 'RMSE mean']]"
   ]
  },
  {
   "cell_type": "code",
   "execution_count": 6,
   "id": "e2923bc1-3ff2-4565-b144-9c9d77b46e72",
   "metadata": {},
   "outputs": [
    {
     "name": "stdout",
     "output_type": "stream",
     "text": [
      "Final MSE: 0.45987680554389954\n"
     ]
    }
   ],
   "source": [
    "import torch\n",
    "import torch.nn as nn\n",
    "from torch.utils.data import TensorDataset, DataLoader\n",
    "\n",
    "X_tensor = torch.tensor(X_scaled, dtype=torch.float32)\n",
    "y_tensor = torch.tensor(y.values, dtype=torch.float32).view(-1, 1)\n",
    "\n",
    "dataset = TensorDataset(X_tensor, y_tensor)\n",
    "loader = DataLoader(dataset, batch_size=32, shuffle=True)\n",
    "\n",
    "class MLP(nn.Module):\n",
    "    def __init__(self, input_dim):\n",
    "        super().__init__()\n",
    "        self.net = nn.Sequential(\n",
    "            nn.Linear(input_dim, 256),\n",
    "            nn.ReLU(),\n",
    "            nn.Linear(256, 64),\n",
    "            nn.ReLU(),\n",
    "            nn.Linear(64, 1)\n",
    "        )\n",
    "\n",
    "    def forward(self, x):\n",
    "        return self.net(x)\n",
    "\n",
    "model = MLP(X_tensor.shape[1])\n",
    "optimizer = torch.optim.Adam(model.parameters(), lr=1e-3)\n",
    "criterion = nn.MSELoss()\n",
    "\n",
    "for epoch in range(30):\n",
    "    for xb, yb in loader:\n",
    "        pred = model(xb)\n",
    "        loss = criterion(pred, yb)\n",
    "        optimizer.zero_grad()\n",
    "        loss.backward()\n",
    "        optimizer.step()\n",
    "\n",
    "print(\"Final MSE:\", loss.item())\n"
   ]
  },
  {
   "cell_type": "code",
   "execution_count": 5,
   "id": "ce1c7ca3-0963-4d04-b7d3-43c06068320d",
   "metadata": {},
   "outputs": [],
   "source": [
    "fps_df = pd.read_csv(\"cox2_with_morgan_fp.csv\")\n",
    "\n",
    "fps_df = fps_df[fps_df['IC50_nM'] > 0].copy()\n",
    "fps_df['pIC50'] = -np.log10(df['IC50_nM'] * 1e-9)\n",
    "\n",
    "X_fps = fps_df[[col for col in fps_df.columns if col.startswith('FP_')]].values\n",
    "y = fps_df['pIC50'].values"
   ]
  },
  {
   "cell_type": "code",
   "execution_count": 7,
   "id": "66e84fcb-cc14-4634-af54-43728c1922c4",
   "metadata": {},
   "outputs": [],
   "source": [
    "import torch.nn as nn\n",
    "import torch.optim as optim\n",
    "from torch.utils.data import TensorDataset, DataLoader\n",
    "\n",
    "class CNN1D(nn.Module):\n",
    "    def __init__(self, input_length=2048):\n",
    "        super().__init__()\n",
    "        self.conv = nn.Sequential(\n",
    "            nn.Conv1d(1, 32, kernel_size=7, padding=3),\n",
    "            nn.ReLU(),\n",
    "            nn.MaxPool1d(2),\n",
    "            nn.Conv1d(32, 64, kernel_size=5, padding=2),\n",
    "            nn.ReLU(),\n",
    "            nn.MaxPool1d(2)\n",
    "        )\n",
    "        self.fc = nn.Sequential(\n",
    "            nn.Linear((input_length // 4) * 64, 128),\n",
    "            nn.ReLU(),\n",
    "            nn.Linear(128, 1)\n",
    "        )\n",
    "    def forward(self, x):\n",
    "        x = self.conv(x)\n",
    "        x = x.view(x.size(0), -1)\n",
    "        return self.fc(x)"
   ]
  },
  {
   "cell_type": "code",
   "execution_count": 8,
   "id": "7cd56ca4-665e-4c5e-8364-e6b7630fe900",
   "metadata": {},
   "outputs": [
    {
     "name": "stdout",
     "output_type": "stream",
     "text": [
      "Using device: mps\n"
     ]
    }
   ],
   "source": [
    "# Проверка и установка устройства\n",
    "device = torch.device(\"mps\" if torch.backends.mps.is_available() else \"cpu\")\n",
    "print(f\"Using device: {device}\")\n",
    "model = CNN1D().to(device)\n",
    "optimizer = optim.Adam(model.parameters(), lr=1e-3)\n",
    "criterion = nn.MSELoss()\n",
    "X_fps_tensor = torch.tensor(X_fps, dtype=torch.float32).unsqueeze(1).to(device)\n",
    "y_tensor = torch.tensor(y, dtype=torch.float32).view(-1, 1).to(device)\n",
    "dataset = TensorDataset(X_fps_tensor, y_tensor)\n",
    "loader = DataLoader(dataset, batch_size=64, shuffle=True)\n"
   ]
  },
  {
   "cell_type": "code",
   "execution_count": 9,
   "id": "f6599013-45e4-493d-885b-f6e23d3b4cf7",
   "metadata": {},
   "outputs": [
    {
     "name": "stdout",
     "output_type": "stream",
     "text": [
      "Epoch 1, Loss: 1.6709\n",
      "Epoch 2, Loss: 1.1954\n",
      "Epoch 3, Loss: 1.0287\n",
      "Epoch 4, Loss: 0.9030\n",
      "Epoch 5, Loss: 0.7911\n",
      "Epoch 6, Loss: 0.7003\n",
      "Epoch 7, Loss: 0.6291\n",
      "Epoch 8, Loss: 0.5699\n",
      "Epoch 9, Loss: 0.5096\n",
      "Epoch 10, Loss: 0.4666\n"
     ]
    }
   ],
   "source": [
    "for epoch in range(10):\n",
    "    model.train()\n",
    "    total_loss = 0\n",
    "    for xb, yb in loader:\n",
    "        pred = model(xb)\n",
    "        loss = criterion(pred, yb)\n",
    "        optimizer.zero_grad()\n",
    "        loss.backward()\n",
    "        optimizer.step()\n",
    "        total_loss += loss.item() * xb.size(0)\n",
    "    avg_loss = total_loss / len(dataset)\n",
    "    print(f\"Epoch {epoch+1}, Loss: {avg_loss:.4f}\")"
   ]
  },
  {
   "cell_type": "code",
   "execution_count": 12,
   "id": "71622820-6e7d-4bda-b770-6cb1052d9d43",
   "metadata": {},
   "outputs": [
    {
     "name": "stdout",
     "output_type": "stream",
     "text": [
      "CNN metrics:\n",
      "MAE  = 0.4586\n",
      "RMSE = 0.6178\n",
      "R²   = 0.8264\n"
     ]
    },
    {
     "name": "stderr",
     "output_type": "stream",
     "text": [
      "/Users/lidakarpovich/miniconda3/envs/jupyter_env/lib/python3.13/site-packages/sklearn/metrics/_regression.py:492: FutureWarning: 'squared' is deprecated in version 1.4 and will be removed in 1.6. To calculate the root mean squared error, use the function'root_mean_squared_error'.\n",
      "  warnings.warn(\n"
     ]
    }
   ],
   "source": [
    "from sklearn.metrics import mean_absolute_error, mean_squared_error, r2_score\n",
    "import numpy as np\n",
    "\n",
    "model.eval()\n",
    "all_preds = []\n",
    "all_true = []\n",
    "\n",
    "with torch.no_grad():\n",
    "    for xb, yb in loader:  \n",
    "        pred = model(xb)\n",
    "        all_preds.append(pred.cpu())\n",
    "        all_true.append(yb.cpu())\n",
    "\n",
    "preds = torch.cat(all_preds).numpy().flatten()\n",
    "true_vals = torch.cat(all_true).numpy().flatten()\n",
    "\n",
    "mae = mean_absolute_error(true_vals, preds)\n",
    "rmse = mean_squared_error(true_vals, preds, squared=False)\n",
    "r2 = r2_score(true_vals, preds)\n",
    "\n",
    "print(f\"CNN metrics:\")\n",
    "print(f\"MAE  = {mae:.4f}\")\n",
    "print(f\"RMSE = {rmse:.4f}\")\n",
    "print(f\"R²   = {r2:.4f}\")"
   ]
  },
  {
   "cell_type": "code",
   "execution_count": null,
   "id": "6f567d42-72e4-4002-bdd8-34a3001d1106",
   "metadata": {},
   "outputs": [],
   "source": []
  },
  {
   "cell_type": "code",
   "execution_count": null,
   "id": "644373f3-d3a6-4133-bd49-d0f4892fa428",
   "metadata": {},
   "outputs": [],
   "source": []
  },
  {
   "cell_type": "markdown",
   "id": "14305f2d-f785-4530-b991-0f788469a2b3",
   "metadata": {},
   "source": [
    "Выводы:\n",
    "CNN справляется лучше всех — особенно хорошо прогнозирует низкие значения активности (видно по MAE).\n",
    "Модели дерева (RF, XGB) явно переобучаются или не извлекают глубокую структуру из Morgan фингерпринтов.\n",
    "MLP — неплохой компромисс, но CNN лучше ловит локальные паттерны в бинарных векторах (а это и есть идея фингерпринтов!).\n",
    "Стоит сохранить CNN как финальную модель и, возможно, протестировать её на hold-out выборке или внешнем наборе."
   ]
  }
 ],
 "metadata": {
  "kernelspec": {
   "display_name": "Python 3 (ipykernel)",
   "language": "python",
   "name": "python3"
  },
  "language_info": {
   "codemirror_mode": {
    "name": "ipython",
    "version": 3
   },
   "file_extension": ".py",
   "mimetype": "text/x-python",
   "name": "python",
   "nbconvert_exporter": "python",
   "pygments_lexer": "ipython3",
   "version": "3.13.5"
  }
 },
 "nbformat": 4,
 "nbformat_minor": 5
}
